{
 "cells": [
  {
   "cell_type": "code",
   "execution_count": 7,
   "metadata": {},
   "outputs": [],
   "source": [
    "from bs4 import BeautifulSoup\n",
    "from csv import writer\n",
    "from requests import get"
   ]
  },
  {
   "cell_type": "code",
   "execution_count": 8,
   "metadata": {},
   "outputs": [],
   "source": [
    "URL = 'https://www.nobelprize.org/prizes/lists/all-nobel-prizes/'\n",
    "START_DELIM = '“'\n",
    "END_DELIM = '”'"
   ]
  },
  {
   "cell_type": "code",
   "execution_count": 9,
   "metadata": {},
   "outputs": [
    {
     "data": {
      "text/plain": [
       "200"
      ]
     },
     "execution_count": 9,
     "metadata": {},
     "output_type": "execute_result"
    }
   ],
   "source": [
    "req = get(URL)\n",
    "soup = BeautifulSoup(req.text)\n",
    "\n",
    "req.status_code"
   ]
  },
  {
   "cell_type": "code",
   "execution_count": 10,
   "metadata": {},
   "outputs": [],
   "source": [
    "winners = list()\n",
    "seen = set()"
   ]
  },
  {
   "cell_type": "code",
   "execution_count": 11,
   "metadata": {},
   "outputs": [
    {
     "data": {
      "text/plain": [
       "678"
      ]
     },
     "execution_count": 11,
     "metadata": {},
     "output_type": "execute_result"
    }
   ],
   "source": [
    "title = None\n",
    "year = None\n",
    "for item in soup.article.find_all(['h3', 'p']):\n",
    "    if item.name == 'h3':\n",
    "        text = item.text\n",
    "        if 'in' in text:\n",
    "            title = text.split(' in ')[1]\n",
    "            titles = title.split(' ')\n",
    "            year = 0\n",
    "            try:\n",
    "                year = int(titles[-1])\n",
    "                title = ' '.join(titles[:-1])\n",
    "            except:\n",
    "                year = int(text.split(' ')[-1])\n",
    "    elif item.name == 'p':\n",
    "        names = [tag.text for tag in item.find_all('a')]\n",
    "        if names:\n",
    "            text = item.text.split(START_DELIM)[-1].split(END_DELIM)[0]\n",
    "            name = '; '.join(names)\n",
    "            key = f'{name} - {year}'\n",
    "            if key not in seen:\n",
    "                winners.append([\n",
    "                    '; '.join(names),\n",
    "                    title,\n",
    "                    year,\n",
    "                    text\n",
    "                ])\n",
    "                seen.add(key)\n",
    "\n",
    "len(winners)"
   ]
  },
  {
   "cell_type": "code",
   "execution_count": 12,
   "metadata": {},
   "outputs": [],
   "source": [
    "with open('nobel_lauretes.csv', 'w', newline='', encoding='utf-8') as csvfile:\n",
    "    write = writer(csvfile)\n",
    "    write.writerows(winners)"
   ]
  },
  {
   "cell_type": "markdown",
   "metadata": {},
   "source": [
    "In which year did Barack Obama get the Nobel Peace Prize?"
   ]
  },
  {
   "cell_type": "code",
   "execution_count": 13,
   "metadata": {},
   "outputs": [
    {
     "data": {
      "text/plain": [
       "['Barack H. Obama',\n",
       " 'Literature',\n",
       " 2009,\n",
       " 'for his extraordinary efforts to strengthen international diplomacy and cooperation between peoples']"
      ]
     },
     "execution_count": 13,
     "metadata": {},
     "output_type": "execute_result"
    }
   ],
   "source": [
    "found = None\n",
    "for winner in winners:\n",
    "    if 'Obama' in winner[0]:\n",
    "        found = winner\n",
    "\n",
    "found"
   ]
  },
  {
   "cell_type": "markdown",
   "metadata": {},
   "source": [
    "When and for what did Ernest Rutherford win the Nobel Prize?"
   ]
  },
  {
   "cell_type": "code",
   "execution_count": 14,
   "metadata": {},
   "outputs": [
    {
     "data": {
      "text/plain": [
       "['Ernest Rutherford',\n",
       " 'Chemistry',\n",
       " 1908,\n",
       " 'for his investigations into the disintegration of the elements, and the chemistry of radioactive substances']"
      ]
     },
     "execution_count": 14,
     "metadata": {},
     "output_type": "execute_result"
    }
   ],
   "source": [
    "found = None\n",
    "for winner in winners:\n",
    "    if 'Rutherford' in winner[0]:\n",
    "        found = winner\n",
    "\n",
    "found"
   ]
  },
  {
   "cell_type": "markdown",
   "metadata": {},
   "source": [
    "Who got the prize for Physics in 1939?"
   ]
  },
  {
   "cell_type": "code",
   "execution_count": 15,
   "metadata": {},
   "outputs": [
    {
     "data": {
      "text/plain": [
       "['Ernest Orlando Lawrence',\n",
       " 'Physics',\n",
       " 1939,\n",
       " 'for the invention and development of the cyclotron and for results obtained with it, especially with regard to artificial radioactive elements']"
      ]
     },
     "execution_count": 15,
     "metadata": {},
     "output_type": "execute_result"
    }
   ],
   "source": [
    "found = None\n",
    "for winner in winners:\n",
    "    if 'Physics' in winner[1] and winner[2] == 1939:\n",
    "        found = winner\n",
    "\n",
    "found"
   ]
  }
 ],
 "metadata": {
  "interpreter": {
   "hash": "762eff9e66baea1e6aeaacf149abb9d2443c2ef6427ca18f78e20f02785549f2"
  },
  "kernelspec": {
   "display_name": "Python 3.9.5 64-bit ('venv': venv)",
   "language": "python",
   "name": "python3"
  },
  "language_info": {
   "codemirror_mode": {
    "name": "ipython",
    "version": 3
   },
   "file_extension": ".py",
   "mimetype": "text/x-python",
   "name": "python",
   "nbconvert_exporter": "python",
   "pygments_lexer": "ipython3",
   "version": "3.9.5"
  },
  "orig_nbformat": 4
 },
 "nbformat": 4,
 "nbformat_minor": 2
}
